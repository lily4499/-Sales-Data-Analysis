{
 "cells": [
  {
   "cell_type": "markdown",
   "metadata": {},
   "source": [
    "# 📊 Sales Data Analysis (Beginner Example)\n",
    "\n",
    "**Business Question:** 👉 _What are the monthly sales trends for our products?_\n",
    "\n",
    "### Steps:\n",
    "1️⃣ Define problem  \n",
    "2️⃣ Get CSV from Kaggle  \n",
    "3️⃣ Clean data  \n",
    "4️⃣ Plot monthly sales  \n",
    "5️⃣ Plot top products  \n",
    "6️⃣ Correlation between discount % & volume  \n",
    "7️⃣ Visualization with matplotlib  \n",
    "8️⃣ Recommendation  \n",
    "9️⃣ Automation option  "
   ]
  },
  {
   "cell_type": "markdown",
   "metadata": {},
   "source": [
    "## 1️⃣ Import Libraries & Load Data"
   ]
  },
  {
   "cell_type": "code",
   "execution_count": 1,
   "metadata": {},
   "outputs": [],
   "source": [
    "import pandas as pd\n",
    "import matplotlib.pyplot as plt\n",
    "import seaborn as sns\n",
    "\n",
    "# Load CSV\n",
    "df = pd.read_csv('../data/sample_sales_data.csv', parse_dates=['ORDERDATE'])\n",
    "\n",
    "# Display first 5 rows\n",
    "df.head()"
   ]
  },
  {
   "cell_type": "markdown",
   "metadata": {},
   "source": [
    "## 2️⃣ Clean Data\n",
    "- Handle missing dates\n",
    "- Drop duplicates\n",
    "- Create YearMonth column"
   ]
  },
  {
   "cell_type": "code",
   "execution_count": 2,
   "metadata": {},
   "outputs": [],
   "source": [
    "# Drop rows with missing dates\n",
    "df = df.dropna(subset=['ORDERDATE'])\n",
    "\n",
    "# Drop duplicates\n",
    "df = df.drop_duplicates()\n",
    "\n",
    "# Create YearMonth for trend analysis\n",
    "df['YearMonth'] = df['ORDERDATE'].dt.to_period('M')\n",
    "\n",
    "# Save cleaned data\n",
    "df.to_csv('../output/cleaned_sales_data.csv', index=False)\n",
    "\n",
    "df.head()"
   ]
  },
  {
   "cell_type": "markdown",
   "metadata": {},
   "source": [
    "## 3️⃣ Monthly Sales Trend"
   ]
  },
  {
   "cell_type": "code",
   "execution_count": 3,
   "metadata": {},
   "outputs": [],
   "source": [
    "monthly_sales = df.groupby('YearMonth')['SALES'].sum().reset_index()\n",
    "monthly_sales['YearMonth'] = monthly_sales['YearMonth'].dt.to_timestamp()\n",
    "\n",
    "plt.figure(figsize=(12, 6))\n",
    "sns.lineplot(data=monthly_sales, x='YearMonth', y='SALES', marker='o')\n",
    "plt.title('Monthly Sales Trend')\n",
    "plt.xlabel('Month')\n",
    "plt.ylabel('Total Sales ($)')\n",
    "plt.xticks(rotation=45)\n",
    "plt.tight_layout()\n",
    "plt.savefig('../output/monthly_sales.png')\n",
    "plt.show()"
   ]
  },
  {
   "cell_type": "markdown",
   "metadata": {},
   "source": [
    "## 4️⃣ Top 10 Products by Sales"
   ]
  },
  {
   "cell_type": "code",
   "execution_count": 4,
   "metadata": {},
   "outputs": [],
   "source": [
    "top_products = df.groupby('PRODUCTCODE')['SALES'].sum().sort_values(ascending=False).head(10)\n",
    "\n",
    "plt.figure(figsize=(10, 6))\n",
    "sns.barplot(x=top_products.values, y=top_products.index)\n",
    "plt.title('Top 10 Products by Sales')\n",
    "plt.xlabel('Total Sales ($)')\n",
    "plt.tight_layout()\n",
    "plt.savefig('../output/top_products.png')\n",
    "plt.show()"
   ]
  },
  {
   "cell_type": "markdown",
   "metadata": {},
   "source": [
    "## 5️⃣ Correlation: Discount % vs Quantity Ordered"
   ]
  },
  {
   "cell_type": "code",
   "execution_count": 5,
   "metadata": {},
   "outputs": [],
   "source": [
    "# Simulate discount %\n",
    "df['discount_percent'] = 100 - (df['PRICEEACH'] / df['MSRP'] * 100)\n",
    "\n",
    "# Correlation\n",
    "correlation = df['discount_percent'].corr(df['QUANTITYORDERED'])\n",
    "\n",
    "print(f\"Correlation between discount % and quantity ordered: {correlation:.2f}\")"
   ]
  },
  {
   "cell_type": "markdown",
   "metadata": {},
   "source": [
    "## 6️⃣ Business Recommendation\n",
    "\n",
    "- Increase inventory of **top products** for **Q4 (October - December)**\n",
    "- Use trend line to forecast inventory needs\n",
    "- Monitor correlation of discount % to adjust promotional campaigns"
   ]
  }
 ],
 "metadata": {
  "kernelspec": {
   "display_name": "Python 3",
   "language": "python",
   "name": "python3"
  },
  "language_info": {
   "name": "python",
   "version": "3.11"
  }
 },
 "nbformat": 4,
 "nbformat_minor": 5
}

